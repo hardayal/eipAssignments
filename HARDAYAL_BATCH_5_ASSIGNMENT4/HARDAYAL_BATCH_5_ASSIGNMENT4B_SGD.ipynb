{
 "cells": [
  {
   "cell_type": "code",
   "execution_count": 0,
   "metadata": {},
   "outputs": [],
   "source": [
    "!pip install -q keras\n",
    "import keras"
   ]
  },
  {
   "cell_type": "code",
   "execution_count": 0,
   "metadata": {},
   "outputs": [],
   "source": [
    "from keras.datasets import cifar10\n",
    "from keras.preprocessing.image import ImageDataGenerator\n",
    "from keras.models import Sequential, load_model\n",
    "from keras.layers import Dense, Dropout, Activation, Flatten\n",
    "from keras.layers import Convolution2D, MaxPooling2D\n",
    "from keras.optimizers import SGD\n",
    "from keras.constraints import maxnorm\n",
    "from keras.utils import np_utils\n",
    "import matplotlib.pyplot as plt\n",
    "import numpy as np\n",
    "from scipy.misc import imread, imresize\n",
    "import warnings; warnings.simplefilter('ignore')\n",
    "from google.colab import files"
   ]
  },
  {
   "cell_type": "code",
   "execution_count": 0,
   "metadata": {},
   "outputs": [],
   "source": [
    "# this part will prevent tensorflow to allocate all the avaliable GPU Memory\n",
    "# backend\n",
    "import tensorflow as tf\n",
    "from keras import backend as k\n",
    "\n",
    "# Don't pre-allocate memory; allocate as-needed\n",
    "config = tf.ConfigProto()\n",
    "config.gpu_options.allow_growth = True\n",
    "\n",
    "# Create a session with the above options specified.\n",
    "k.tensorflow_backend.set_session(tf.Session(config=config))"
   ]
  },
  {
   "cell_type": "code",
   "execution_count": 0,
   "metadata": {},
   "outputs": [],
   "source": [
    "num_classes = 10\n",
    "epochs = 50\n",
    "batch_size = 32\n",
    "lrate = 0.01\n",
    "decay = lrate/epochs"
   ]
  },
  {
   "cell_type": "code",
   "execution_count": 29,
   "metadata": {},
   "outputs": [
    {
     "name": "stdout",
     "output_type": "stream",
     "text": [
      "X_train shape: (50000, 32, 32, 3)\n",
      "50000 training samples\n",
      "10000 validation samples\n"
     ]
    }
   ],
   "source": [
    "(X_train, y_train), (X_test, y_test) = cifar10.load_data()\n",
    "y_train = y_train.reshape(y_train.shape[0])  \n",
    "y_test = y_test.reshape(y_test.shape[0])\n",
    "\n",
    "print('X_train shape:', X_train.shape)\n",
    "print(X_train.shape[0], 'training samples')\n",
    "print(X_test.shape[0], 'validation samples')"
   ]
  },
  {
   "cell_type": "code",
   "execution_count": 0,
   "metadata": {},
   "outputs": [],
   "source": [
    "X_train = X_train.astype('float32')\n",
    "X_test = X_test.astype('float32')\n",
    "X_train /= 255\n",
    "X_test /= 255"
   ]
  },
  {
   "cell_type": "code",
   "execution_count": 0,
   "metadata": {},
   "outputs": [],
   "source": [
    "Y_train = np_utils.to_categorical(y_train, num_classes)\n",
    "Y_test = np_utils.to_categorical(y_test, num_classes)"
   ]
  },
  {
   "cell_type": "code",
   "execution_count": 0,
   "metadata": {},
   "outputs": [],
   "source": [
    "model = Sequential()\n",
    "model.add(Convolution2D(32, 3, 3, input_shape=(32, 32, 3), border_mode='same', activation='relu', W_constraint=maxnorm(3)))\n",
    "model.add(Dropout(0.2))\n",
    "model.add(Convolution2D(32, 3, 3, activation='relu', border_mode='same', W_constraint=maxnorm(3)))\n",
    "model.add(MaxPooling2D(pool_size=(2, 2)))\n",
    "model.add(Flatten())\n",
    "model.add(Dense(512, activation='relu', W_constraint=maxnorm(3)))\n",
    "model.add(Dropout(0.5))\n",
    "model.add(Dense(num_classes, activation='softmax'))"
   ]
  },
  {
   "cell_type": "code",
   "execution_count": 34,
   "metadata": {},
   "outputs": [
    {
     "name": "stdout",
     "output_type": "stream",
     "text": [
      "_________________________________________________________________\n",
      "Layer (type)                 Output Shape              Param #   \n",
      "=================================================================\n",
      "conv2d_3 (Conv2D)            (None, 32, 32, 32)        896       \n",
      "_________________________________________________________________\n",
      "dropout_3 (Dropout)          (None, 32, 32, 32)        0         \n",
      "_________________________________________________________________\n",
      "conv2d_4 (Conv2D)            (None, 32, 32, 32)        9248      \n",
      "_________________________________________________________________\n",
      "max_pooling2d_2 (MaxPooling2 (None, 16, 16, 32)        0         \n",
      "_________________________________________________________________\n",
      "flatten_2 (Flatten)          (None, 8192)              0         \n",
      "_________________________________________________________________\n",
      "dense_3 (Dense)              (None, 512)               4194816   \n",
      "_________________________________________________________________\n",
      "dropout_4 (Dropout)          (None, 512)               0         \n",
      "_________________________________________________________________\n",
      "dense_4 (Dense)              (None, 10)                5130      \n",
      "=================================================================\n",
      "Total params: 4,210,090\n",
      "Trainable params: 4,210,090\n",
      "Non-trainable params: 0\n",
      "_________________________________________________________________\n"
     ]
    }
   ],
   "source": [
    "# Compile model\n",
    "sgd = SGD(lr=lrate, momentum=0.9, decay=decay, nesterov=False)\n",
    "model.compile(loss='categorical_crossentropy', optimizer=sgd, metrics=['accuracy'])\n",
    "model.summary()"
   ]
  },
  {
   "cell_type": "code",
   "execution_count": 35,
   "metadata": {},
   "outputs": [
    {
     "name": "stdout",
     "output_type": "stream",
     "text": [
      "Train on 50000 samples, validate on 10000 samples\n",
      "Epoch 1/50\n",
      "50000/50000 [==============================] - 23s 457us/step - loss: 1.7516 - acc: 0.3683 - val_loss: 1.4435 - val_acc: 0.4966\n",
      "Epoch 2/50\n",
      "19424/50000 [==========>...................] - ETA: 12s - loss: 1.4415 - acc: 0.4848"
     ]
    },
    {
     "name": "stdout",
     "output_type": "stream",
     "text": [
      "50000/50000 [==============================] - 22s 444us/step - loss: 1.3852 - acc: 0.5022 - val_loss: 1.2343 - val_acc: 0.5668\n",
      "Epoch 3/50\n",
      "45824/50000 [==========================>...] - ETA: 1s - loss: 1.2152 - acc: 0.5680"
     ]
    },
    {
     "name": "stdout",
     "output_type": "stream",
     "text": [
      "50000/50000 [==============================] - 22s 446us/step - loss: 1.2134 - acc: 0.5692 - val_loss: 1.1222 - val_acc: 0.6039\n",
      "Epoch 4/50\n",
      "50000/50000 [==============================] - 22s 447us/step - loss: 1.0894 - acc: 0.6113 - val_loss: 1.0558 - val_acc: 0.6205\n",
      "Epoch 5/50\n",
      " 3360/50000 [=>............................] - ETA: 19s - loss: 0.9831 - acc: 0.6429"
     ]
    },
    {
     "name": "stdout",
     "output_type": "stream",
     "text": [
      "50000/50000 [==============================] - 22s 447us/step - loss: 0.9917 - acc: 0.6437 - val_loss: 1.0307 - val_acc: 0.6390\n",
      "Epoch 6/50\n",
      "39680/50000 [======================>.......] - ETA: 4s - loss: 0.8956 - acc: 0.6820"
     ]
    },
    {
     "name": "stdout",
     "output_type": "stream",
     "text": [
      "50000/50000 [==============================] - 22s 449us/step - loss: 0.9000 - acc: 0.6810 - val_loss: 0.9831 - val_acc: 0.6511\n",
      "Epoch 7/50\n",
      "50000/50000 [==============================] - 22s 445us/step - loss: 0.8193 - acc: 0.7100 - val_loss: 0.9605 - val_acc: 0.6615\n",
      "Epoch 8/50\n",
      " 1952/50000 [>.............................] - ETA: 20s - loss: 0.7400 - acc: 0.7336"
     ]
    },
    {
     "name": "stdout",
     "output_type": "stream",
     "text": [
      "50000/50000 [==============================] - 22s 445us/step - loss: 0.7487 - acc: 0.7331 - val_loss: 0.9528 - val_acc: 0.6688\n",
      "Epoch 9/50\n",
      "39168/50000 [======================>.......] - ETA: 4s - loss: 0.6732 - acc: 0.7589"
     ]
    },
    {
     "name": "stdout",
     "output_type": "stream",
     "text": [
      "50000/50000 [==============================] - 22s 446us/step - loss: 0.6750 - acc: 0.7584 - val_loss: 0.9346 - val_acc: 0.6772\n",
      "Epoch 10/50\n",
      "50000/50000 [==============================] - 22s 445us/step - loss: 0.6142 - acc: 0.7818 - val_loss: 0.9470 - val_acc: 0.6821\n",
      "Epoch 11/50\n",
      " 1696/50000 [>.............................] - ETA: 20s - loss: 0.5536 - acc: 0.8031"
     ]
    },
    {
     "name": "stdout",
     "output_type": "stream",
     "text": [
      "50000/50000 [==============================] - 22s 449us/step - loss: 0.5593 - acc: 0.8013 - val_loss: 0.9405 - val_acc: 0.6840\n",
      "Epoch 12/50\n",
      "38944/50000 [======================>.......] - ETA: 4s - loss: 0.5041 - acc: 0.8216"
     ]
    },
    {
     "name": "stdout",
     "output_type": "stream",
     "text": [
      "50000/50000 [==============================] - 22s 446us/step - loss: 0.5079 - acc: 0.8196 - val_loss: 0.9320 - val_acc: 0.6879\n",
      "Epoch 13/50\n",
      "50000/50000 [==============================] - 22s 446us/step - loss: 0.4651 - acc: 0.8349 - val_loss: 0.9514 - val_acc: 0.6913\n",
      "Epoch 14/50\n",
      " 1568/50000 [..............................] - ETA: 20s - loss: 0.4070 - acc: 0.8495"
     ]
    },
    {
     "name": "stdout",
     "output_type": "stream",
     "text": [
      "50000/50000 [==============================] - 22s 445us/step - loss: 0.4220 - acc: 0.8509 - val_loss: 0.9969 - val_acc: 0.6884\n",
      "Epoch 15/50\n",
      "39008/50000 [======================>.......] - ETA: 4s - loss: 0.3796 - acc: 0.8654"
     ]
    },
    {
     "name": "stdout",
     "output_type": "stream",
     "text": [
      "50000/50000 [==============================] - 22s 446us/step - loss: 0.3823 - acc: 0.8643 - val_loss: 1.0170 - val_acc: 0.6890\n",
      "Epoch 16/50\n",
      "50000/50000 [==============================] - 22s 442us/step - loss: 0.3520 - acc: 0.8747 - val_loss: 1.0217 - val_acc: 0.6939\n",
      "Epoch 17/50\n",
      " 1696/50000 [>.............................] - ETA: 20s - loss: 0.2982 - acc: 0.8968"
     ]
    },
    {
     "name": "stdout",
     "output_type": "stream",
     "text": [
      "50000/50000 [==============================] - 22s 444us/step - loss: 0.3222 - acc: 0.8860 - val_loss: 1.0309 - val_acc: 0.6905\n",
      "Epoch 18/50\n",
      "38912/50000 [======================>.......] - ETA: 4s - loss: 0.2959 - acc: 0.8942"
     ]
    },
    {
     "name": "stdout",
     "output_type": "stream",
     "text": [
      "50000/50000 [==============================] - 22s 447us/step - loss: 0.2987 - acc: 0.8935 - val_loss: 1.0577 - val_acc: 0.6939\n",
      "Epoch 19/50\n",
      "50000/50000 [==============================] - 22s 448us/step - loss: 0.2781 - acc: 0.9019 - val_loss: 1.0780 - val_acc: 0.6908\n",
      "Epoch 20/50\n",
      " 1568/50000 [..............................] - ETA: 20s - loss: 0.2537 - acc: 0.9158"
     ]
    },
    {
     "name": "stdout",
     "output_type": "stream",
     "text": [
      "50000/50000 [==============================] - 22s 445us/step - loss: 0.2546 - acc: 0.9095 - val_loss: 1.0714 - val_acc: 0.6972\n",
      "Epoch 21/50\n",
      "38848/50000 [======================>.......] - ETA: 4s - loss: 0.2386 - acc: 0.9174"
     ]
    },
    {
     "name": "stdout",
     "output_type": "stream",
     "text": [
      "50000/50000 [==============================] - 22s 445us/step - loss: 0.2379 - acc: 0.9173 - val_loss: 1.0980 - val_acc: 0.6987\n",
      "Epoch 22/50\n",
      "50000/50000 [==============================] - 22s 446us/step - loss: 0.2232 - acc: 0.9212 - val_loss: 1.1365 - val_acc: 0.6972\n",
      "Epoch 23/50\n",
      " 1568/50000 [..............................] - ETA: 20s - loss: 0.2366 - acc: 0.9165"
     ]
    },
    {
     "name": "stdout",
     "output_type": "stream",
     "text": [
      "50000/50000 [==============================] - 22s 444us/step - loss: 0.2065 - acc: 0.9289 - val_loss: 1.1593 - val_acc: 0.6928\n",
      "Epoch 24/50\n",
      "38944/50000 [======================>.......] - ETA: 4s - loss: 0.1973 - acc: 0.9320"
     ]
    },
    {
     "name": "stdout",
     "output_type": "stream",
     "text": [
      "50000/50000 [==============================] - 22s 444us/step - loss: 0.1987 - acc: 0.9315 - val_loss: 1.1375 - val_acc: 0.7018\n",
      "Epoch 25/50\n",
      "50000/50000 [==============================] - 22s 446us/step - loss: 0.1843 - acc: 0.9362 - val_loss: 1.1602 - val_acc: 0.7011\n",
      "Epoch 26/50\n",
      " 1568/50000 [..............................] - ETA: 20s - loss: 0.1971 - acc: 0.9298"
     ]
    },
    {
     "name": "stdout",
     "output_type": "stream",
     "text": [
      "50000/50000 [==============================] - 22s 444us/step - loss: 0.1745 - acc: 0.9401 - val_loss: 1.1741 - val_acc: 0.7008\n",
      "Epoch 27/50\n",
      "38848/50000 [======================>.......] - ETA: 4s - loss: 0.1669 - acc: 0.9416"
     ]
    },
    {
     "name": "stdout",
     "output_type": "stream",
     "text": [
      "50000/50000 [==============================] - 22s 443us/step - loss: 0.1662 - acc: 0.9420 - val_loss: 1.2119 - val_acc: 0.7007\n",
      "Epoch 28/50\n",
      "50000/50000 [==============================] - 22s 445us/step - loss: 0.1577 - acc: 0.9456 - val_loss: 1.1865 - val_acc: 0.6986\n",
      "Epoch 29/50\n",
      " 1568/50000 [..............................] - ETA: 20s - loss: 0.1231 - acc: 0.9598"
     ]
    },
    {
     "name": "stdout",
     "output_type": "stream",
     "text": [
      "50000/50000 [==============================] - 22s 443us/step - loss: 0.1520 - acc: 0.9474 - val_loss: 1.2041 - val_acc: 0.7017\n",
      "Epoch 30/50\n",
      "38944/50000 [======================>.......] - ETA: 4s - loss: 0.1393 - acc: 0.9525"
     ]
    },
    {
     "name": "stdout",
     "output_type": "stream",
     "text": [
      "50000/50000 [==============================] - 22s 445us/step - loss: 0.1416 - acc: 0.9516 - val_loss: 1.2251 - val_acc: 0.7052\n",
      "Epoch 31/50\n",
      "50000/50000 [==============================] - 22s 445us/step - loss: 0.1327 - acc: 0.9545 - val_loss: 1.2521 - val_acc: 0.7015\n",
      "Epoch 32/50\n",
      " 1568/50000 [..............................] - ETA: 20s - loss: 0.1270 - acc: 0.9592"
     ]
    },
    {
     "name": "stdout",
     "output_type": "stream",
     "text": [
      "50000/50000 [==============================] - 22s 445us/step - loss: 0.1288 - acc: 0.9561 - val_loss: 1.2649 - val_acc: 0.7054\n",
      "Epoch 33/50\n",
      "38816/50000 [======================>.......] - ETA: 4s - loss: 0.1259 - acc: 0.9574"
     ]
    },
    {
     "name": "stdout",
     "output_type": "stream",
     "text": [
      "50000/50000 [==============================] - 22s 444us/step - loss: 0.1264 - acc: 0.9571 - val_loss: 1.2539 - val_acc: 0.7008\n",
      "Epoch 34/50\n",
      "50000/50000 [==============================] - 22s 444us/step - loss: 0.1143 - acc: 0.9607 - val_loss: 1.2737 - val_acc: 0.7043\n",
      "Epoch 35/50\n",
      " 1568/50000 [..............................] - ETA: 20s - loss: 0.1303 - acc: 0.9554"
     ]
    },
    {
     "name": "stdout",
     "output_type": "stream",
     "text": [
      "50000/50000 [==============================] - 22s 445us/step - loss: 0.1160 - acc: 0.9601 - val_loss: 1.3047 - val_acc: 0.6973\n",
      "Epoch 36/50\n",
      "38784/50000 [======================>.......] - ETA: 4s - loss: 0.1098 - acc: 0.9616"
     ]
    },
    {
     "name": "stdout",
     "output_type": "stream",
     "text": [
      "50000/50000 [==============================] - 22s 446us/step - loss: 0.1112 - acc: 0.9611 - val_loss: 1.2914 - val_acc: 0.7029\n",
      "Epoch 37/50\n",
      "50000/50000 [==============================] - 22s 446us/step - loss: 0.1109 - acc: 0.9629 - val_loss: 1.2784 - val_acc: 0.7035\n",
      "Epoch 38/50\n",
      " 1568/50000 [..............................] - ETA: 20s - loss: 0.1026 - acc: 0.9643"
     ]
    },
    {
     "name": "stdout",
     "output_type": "stream",
     "text": [
      "50000/50000 [==============================] - 22s 447us/step - loss: 0.1045 - acc: 0.9644 - val_loss: 1.3149 - val_acc: 0.7014\n",
      "Epoch 39/50\n",
      "38752/50000 [======================>.......] - ETA: 4s - loss: 0.0997 - acc: 0.9661"
     ]
    },
    {
     "name": "stdout",
     "output_type": "stream",
     "text": [
      "50000/50000 [==============================] - 22s 446us/step - loss: 0.0995 - acc: 0.9661 - val_loss: 1.3283 - val_acc: 0.7054\n",
      "Epoch 40/50\n",
      "50000/50000 [==============================] - 22s 448us/step - loss: 0.0983 - acc: 0.9666 - val_loss: 1.3417 - val_acc: 0.7039\n",
      "Epoch 41/50\n",
      " 1568/50000 [..............................] - ETA: 20s - loss: 0.0997 - acc: 0.9694"
     ]
    },
    {
     "name": "stdout",
     "output_type": "stream",
     "text": [
      "50000/50000 [==============================] - 22s 447us/step - loss: 0.0962 - acc: 0.9674 - val_loss: 1.3360 - val_acc: 0.7050\n",
      "Epoch 42/50\n",
      "38848/50000 [======================>.......] - ETA: 4s - loss: 0.0905 - acc: 0.9697"
     ]
    },
    {
     "name": "stdout",
     "output_type": "stream",
     "text": [
      "50000/50000 [==============================] - 22s 445us/step - loss: 0.0916 - acc: 0.9693 - val_loss: 1.3401 - val_acc: 0.7054\n",
      "Epoch 43/50\n",
      "50000/50000 [==============================] - 22s 447us/step - loss: 0.0897 - acc: 0.9700 - val_loss: 1.3400 - val_acc: 0.7063\n",
      "Epoch 44/50\n",
      " 1568/50000 [..............................] - ETA: 20s - loss: 0.0816 - acc: 0.9745"
     ]
    },
    {
     "name": "stdout",
     "output_type": "stream",
     "text": [
      "50000/50000 [==============================] - 22s 446us/step - loss: 0.0872 - acc: 0.9707 - val_loss: 1.3451 - val_acc: 0.7061\n",
      "Epoch 45/50\n",
      "38976/50000 [======================>.......] - ETA: 4s - loss: 0.0823 - acc: 0.9722"
     ]
    },
    {
     "name": "stdout",
     "output_type": "stream",
     "text": [
      "50000/50000 [==============================] - 22s 445us/step - loss: 0.0836 - acc: 0.9720 - val_loss: 1.3767 - val_acc: 0.7049\n",
      "Epoch 46/50\n",
      "50000/50000 [==============================] - 22s 446us/step - loss: 0.0808 - acc: 0.9732 - val_loss: 1.3714 - val_acc: 0.7026\n",
      "Epoch 47/50\n",
      " 1568/50000 [..............................] - ETA: 20s - loss: 0.0822 - acc: 0.9732"
     ]
    },
    {
     "name": "stdout",
     "output_type": "stream",
     "text": [
      "50000/50000 [==============================] - 22s 448us/step - loss: 0.0797 - acc: 0.9732 - val_loss: 1.3748 - val_acc: 0.7047\n",
      "Epoch 48/50\n",
      "38784/50000 [======================>.......] - ETA: 4s - loss: 0.0778 - acc: 0.9749"
     ]
    },
    {
     "name": "stdout",
     "output_type": "stream",
     "text": [
      "50000/50000 [==============================] - 22s 445us/step - loss: 0.0777 - acc: 0.9746 - val_loss: 1.3841 - val_acc: 0.7076\n",
      "Epoch 49/50\n",
      "50000/50000 [==============================] - 22s 447us/step - loss: 0.0763 - acc: 0.9737 - val_loss: 1.4089 - val_acc: 0.7033\n",
      "Epoch 50/50\n",
      " 1568/50000 [..............................] - ETA: 20s - loss: 0.0668 - acc: 0.9796"
     ]
    },
    {
     "name": "stdout",
     "output_type": "stream",
     "text": [
      "50000/50000 [==============================] - 22s 444us/step - loss: 0.0751 - acc: 0.9753 - val_loss: 1.4074 - val_acc: 0.7055\n"
     ]
    }
   ],
   "source": [
    "DataGenerator = model.fit(\n",
    "    X_train,\n",
    "    Y_train,\n",
    "    batch_size=batch_size,\n",
    "    epochs=epochs,\n",
    "    validation_data=(X_test, Y_test),\n",
    "    shuffle=True\n",
    ")"
   ]
  },
  {
   "cell_type": "code",
   "execution_count": 0,
   "metadata": {},
   "outputs": [],
   "source": [
    "def Over_Fitting_Score(h):\n",
    "    gap = []\n",
    "    n = len(h.epoch)\n",
    "    for i in h.epoch:\n",
    "        acc = h.history['acc'][i]\n",
    "        val_acc = h.history['val_acc'][i]\n",
    "        # late gaps get higher weight ..\n",
    "        gap.append( i * abs(acc-val_acc))\n",
    "    ofs = sum(gap) / (n * (n-1) / 2)\n",
    "    return ofs"
   ]
  },
  {
   "cell_type": "code",
   "execution_count": 0,
   "metadata": {},
   "outputs": [],
   "source": [
    "def Under_Fitting_Score(h):\n",
    "    gap = []\n",
    "    for i in h.epoch:\n",
    "        acc = h.history['acc'][i]\n",
    "        val_acc = h.history['val_acc'][i]\n",
    "        gap.append(abs(acc-val_acc))\n",
    "    gap = np.array(gap)\n",
    "    return gap.mean()"
   ]
  },
  {
   "cell_type": "code",
   "execution_count": 0,
   "metadata": {},
   "outputs": [],
   "source": [
    "def View_Accuracy(h):\n",
    "    # Accuracy history graph\n",
    "    plt.plot(h.history['acc'])\n",
    "    if 'val_acc' in h.history:\n",
    "        plt.plot(h.history['val_acc'])\n",
    "    plt.title('model accuracy')\n",
    "    plt.ylabel('accuracy')\n",
    "    plt.xlabel('epoch')\n",
    "    leg = plt.legend(['train', 'validation'], loc='best')\n",
    "    plt.setp(leg.get_lines(), linewidth=3.0)\n",
    "\n",
    "\n",
    "def View_Loss(h):\n",
    "    # Loss history graph\n",
    "    plt.plot(h.history['loss'])\n",
    "    if 'val_loss' in h.history:\n",
    "        plt.plot(h.history['val_loss'])\n",
    "    plt.title('model loss')\n",
    "    plt.ylabel('loss')\n",
    "    plt.xlabel('epoch')\n",
    "    leg = plt.legend(['train', 'validation'], loc='best')\n",
    "    plt.setp(leg.get_lines(), linewidth=3.0)\n",
    "\n",
    "    \n",
    "def Show_Scores(model, h, X_train, Y_train, X_test, Y_test):\n",
    "    loss, acc = model.evaluate(X_train, Y_train, verbose=0)\n",
    "    print(\"Training: accuracy   = %.6f loss = %.6f\" % (acc, loss))\n",
    "    loss, acc = model.evaluate(X_test, Y_test, verbose=0)\n",
    "    print(\"Validation: accuracy = %.6f loss = %.6f\" % (acc, loss))\n",
    "    if 'val_acc' in h.history:\n",
    "        print(\"Over fitting score   = %.6f\" % Over_Fitting_Score(h))\n",
    "        print(\"Under fitting score  = %.6f\" % Under_Fitting_Score(h))\n",
    "    print(\"Params count:\", model.count_params())\n",
    "    print(\"stop epoch =\", max(h.epoch))\n",
    "\n",
    "    print(\"epoch =\", h.params['epochs'])\n",
    "    print(\"batch_size =\", h.params['batch_size'])\n",
    "    print(\"Training Samples =\", h.params['samples'])\n",
    "    View_Accuracy(h)\n",
    "    id = model.name[-1]\n",
    "    plt.savefig(model.name + '_acc_graph.png')\n",
    "    plt.show()\n",
    "    View_Loss(h)\n",
    "    plt.savefig(model.name + '_loss_graph.png')\n",
    "    plt.show()"
   ]
  },
  {
   "cell_type": "code",
   "execution_count": 39,
   "metadata": {},
   "outputs": [
    {
     "name": "stdout",
     "output_type": "stream",
     "text": [
      "Training: accuracy   = 0.999540 loss = 0.005631\n",
      "Validation: accuracy = 0.705500 loss = 1.407352\n",
      "Over fitting score   = 0.240615\n",
      "Under fitting score  = 0.198181\n",
      "Params count: 4210090\n",
      "stop epoch = 49\n",
      "epoch = 50\n",
      "batch_size = 32\n",
      "Training Samples = 50000\n"
     ]
    },
    {
     "data": {
      "image/png": "[encoded data removed]"
     },
     "output_type": "display_data",
     "metadata": {}
    },
    {
     "data": {
      "image/png": "[encoded data removed]"
     },
     "output_type": "display_data",
     "metadata": {}
    }
   ],
   "source": [
    "Show_Scores(model, DataGenerator, X_train, Y_train, X_test, Y_test)"
   ]
  },
  {
   "cell_type": "code",
   "execution_count": 40,
   "metadata": {},
   "outputs": [
    {
     "name": "stdout",
     "output_type": "stream",
     "text": [
      "Training: accuracy = 0.999540  ;  loss = 0.005631\n"
     ]
    }
   ],
   "source": [
    "loss, accuracy = model.evaluate(X_train, Y_train, verbose=0)\n",
    "print(\"Training: accuracy = %f  ;  loss = %f\" % (accuracy, loss))"
   ]
  },
  {
   "cell_type": "code",
   "execution_count": 41,
   "metadata": {},
   "outputs": [
    {
     "name": "stdout",
     "output_type": "stream",
     "text": [
      "Validation: accuracy1 = 0.705500  ;  loss1 = 1.407352\n"
     ]
    }
   ],
   "source": [
    "loss, accuracy = model.evaluate(X_test, Y_test, verbose=0)\n",
    "print(\"Validation: accuracy1 = %f  ;  loss1 = %f\" % (accuracy, loss))"
   ]
  },
  {
   "cell_type": "code",
   "execution_count": 42,
   "metadata": {},
   "outputs": [
    {
     "name": "stdout",
     "output_type": "stream",
     "text": [
      "Saved model to disk\n"
     ]
    }
   ],
   "source": [
    "# Save the trained weights in to .h5 format\n",
    "model.save_weights(\"HARDAYAL_BATCH_5_ASSIGNMENT4B_SGD.h5\")\n",
    "print(\"Saved model to disk\")"
   ]
  },
  {
   "cell_type": "code",
   "execution_count": 0,
   "metadata": {},
   "outputs": [],
   "source": [
    "files.download(\"HARDAYAL_BATCH_5_ASSIGNMENT4B_SGD.h5\")"
   ]
  }
 ],
 "metadata": {
  "colab": {
   "name": "4B_29052018_SGD.ipynb",
   "version": "0.3.2",
   "views": {},
   "default_view": {},
   "provenance": [
    {
     "file_id": "1p4yjhh1gvJA2Ufp8aXbAXVjP2TlHo5k_",
     "timestamp": 1.527599723037E12
    }
   ],
   "collapsed_sections": []
  },
  "kernelspec": {
   "name": "python3",
   "display_name": "Python 3"
  },
  "accelerator": "GPU"
 },
 "nbformat": 4,
 "nbformat_minor": 0
}