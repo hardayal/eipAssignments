{
 "cells": [
  {
   "cell_type": "code",
   "execution_count": 1,
   "metadata": {},
   "outputs": [
    {
     "name": "stderr",
     "output_type": "stream",
     "text": [
      "Using TensorFlow backend.\n"
     ]
    }
   ],
   "source": [
    "!pip install -q keras\n",
    "import keras"
   ]
  },
  {
   "cell_type": "code",
   "execution_count": 0,
   "metadata": {},
   "outputs": [],
   "source": [
    "from keras.datasets import cifar10\n",
    "from keras.preprocessing.image import ImageDataGenerator\n",
    "from keras.models import Sequential, load_model\n",
    "from keras.layers import Dense, Dropout, Activation, Flatten\n",
    "from keras.layers import Convolution2D, MaxPooling2D\n",
    "from keras.optimizers import Adam\n",
    "from keras.constraints import maxnorm\n",
    "from keras.utils import np_utils\n",
    "import matplotlib.pyplot as plt\n",
    "import numpy as np\n",
    "from scipy.misc import imread, imresize\n",
    "import warnings; warnings.simplefilter('ignore')\n",
    "from google.colab import files"
   ]
  },
  {
   "cell_type": "code",
   "execution_count": 0,
   "metadata": {},
   "outputs": [],
   "source": [
    "# this part will prevent tensorflow to allocate all the avaliable GPU Memory\n",
    "# backend\n",
    "import tensorflow as tf\n",
    "from keras import backend as k\n",
    "\n",
    "# Don't pre-allocate memory; allocate as-needed\n",
    "config = tf.ConfigProto()\n",
    "config.gpu_options.allow_growth = True\n",
    "\n",
    "# Create a session with the above options specified.\n",
    "k.tensorflow_backend.set_session(tf.Session(config=config))"
   ]
  },
  {
   "cell_type": "code",
   "execution_count": 0,
   "metadata": {},
   "outputs": [],
   "source": [
    "num_classes = 10\n",
    "epochs = 50\n",
    "batch_size = 32\n",
    "lrate = 0.001\n",
    "decay = lrate/epochs"
   ]
  },
  {
   "cell_type": "code",
   "execution_count": 5,
   "metadata": {},
   "outputs": [
    {
     "name": "stdout",
     "output_type": "stream",
     "text": [
      "X_train shape: (50000, 32, 32, 3)\n",
      "50000 training samples\n",
      "10000 validation samples\n"
     ]
    }
   ],
   "source": [
    "(X_train, y_train), (X_test, y_test) = cifar10.load_data()\n",
    "y_train = y_train.reshape(y_train.shape[0])  \n",
    "y_test = y_test.reshape(y_test.shape[0])\n",
    "\n",
    "print('X_train shape:', X_train.shape)\n",
    "print(X_train.shape[0], 'training samples')\n",
    "print(X_test.shape[0], 'validation samples')"
   ]
  },
  {
   "cell_type": "code",
   "execution_count": 0,
   "metadata": {},
   "outputs": [],
   "source": [
    "X_train = X_train.astype('float32')\n",
    "X_test = X_test.astype('float32')\n",
    "X_train /= 255\n",
    "X_test /= 255"
   ]
  },
  {
   "cell_type": "code",
   "execution_count": 0,
   "metadata": {},
   "outputs": [],
   "source": [
    "Y_train = np_utils.to_categorical(y_train, num_classes)\n",
    "Y_test = np_utils.to_categorical(y_test, num_classes)"
   ]
  },
  {
   "cell_type": "code",
   "execution_count": 0,
   "metadata": {},
   "outputs": [],
   "source": [
    "Y_train = np_utils.to_categorical(y_train, num_classes)\n",
    "Y_test = np_utils.to_categorical(y_test, num_classes)"
   ]
  },
  {
   "cell_type": "code",
   "execution_count": 0,
   "metadata": {},
   "outputs": [],
   "source": [
    "model = Sequential()\n",
    "model.add(Convolution2D(24, 3, 3, input_shape=(32, 32, 3), border_mode='same', activation='relu', W_constraint=maxnorm(3)))\n",
    "model.add(Dropout(0.2))\n",
    "model.add(Convolution2D(24, 3, 3, activation='relu', border_mode='same', W_constraint=maxnorm(3)))\n",
    "model.add(MaxPooling2D(pool_size=(2, 2)))\n",
    "model.add(Flatten())\n",
    "model.add(Dense(512, activation='relu', W_constraint=maxnorm(3)))\n",
    "model.add(Dropout(0.5))\n",
    "model.add(Dense(num_classes, activation='softmax'))"
   ]
  },
  {
   "cell_type": "code",
   "execution_count": 10,
   "metadata": {},
   "outputs": [
    {
     "name": "stdout",
     "output_type": "stream",
     "text": [
      "_________________________________________________________________\n",
      "Layer (type)                 Output Shape              Param #   \n",
      "=================================================================\n",
      "conv2d_1 (Conv2D)            (None, 32, 32, 24)        672       \n",
      "_________________________________________________________________\n",
      "dropout_1 (Dropout)          (None, 32, 32, 24)        0         \n",
      "_________________________________________________________________\n",
      "conv2d_2 (Conv2D)            (None, 32, 32, 24)        5208      \n",
      "_________________________________________________________________\n",
      "max_pooling2d_1 (MaxPooling2 (None, 16, 16, 24)        0         \n",
      "_________________________________________________________________\n",
      "flatten_1 (Flatten)          (None, 6144)              0         \n",
      "_________________________________________________________________\n",
      "dense_1 (Dense)              (None, 512)               3146240   \n",
      "_________________________________________________________________\n",
      "dropout_2 (Dropout)          (None, 512)               0         \n",
      "_________________________________________________________________\n",
      "dense_2 (Dense)              (None, 10)                5130      \n",
      "=================================================================\n",
      "Total params: 3,157,250\n",
      "Trainable params: 3,157,250\n",
      "Non-trainable params: 0\n",
      "_________________________________________________________________\n"
     ]
    }
   ],
   "source": [
    "# Compile model\n",
    "Adm = Adam(lr=lrate, decay=decay)\n",
    "model.compile(loss='categorical_crossentropy', optimizer=Adm, metrics=['accuracy'])\n",
    "model.summary()"
   ]
  },
  {
   "cell_type": "code",
   "execution_count": 11,
   "metadata": {},
   "outputs": [
    {
     "name": "stdout",
     "output_type": "stream",
     "text": [
      "WARNING:tensorflow:Variable *= will be deprecated. Use variable.assign_mul if you want assignment to the variable value or 'x = x * y' if you want a new python Tensor object.\n",
      "Train on 50000 samples, validate on 10000 samples\n",
      "Epoch 1/50\n",
      "39328/50000 [======================>.......] - ETA: 5s - loss: 1.5468 - acc: 0.4412"
     ]
    },
    {
     "name": "stdout",
     "output_type": "stream",
     "text": [
      "50000/50000 [==============================] - 25s 499us/step - loss: 1.4925 - acc: 0.4619 - val_loss: 1.2108 - val_acc: 0.5877\n",
      "Epoch 2/50\n",
      "50000/50000 [==============================] - 24s 478us/step - loss: 1.1812 - acc: 0.5815 - val_loss: 1.1227 - val_acc: 0.6144\n",
      "Epoch 3/50\n",
      " 1504/50000 [..............................] - ETA: 22s - loss: 1.0302 - acc: 0.6416"
     ]
    },
    {
     "name": "stdout",
     "output_type": "stream",
     "text": [
      "50000/50000 [==============================] - 24s 479us/step - loss: 1.0633 - acc: 0.6256 - val_loss: 0.9855 - val_acc: 0.6548\n",
      "Epoch 4/50\n",
      "38336/50000 [======================>.......] - ETA: 5s - loss: 0.9847 - acc: 0.6522"
     ]
    },
    {
     "name": "stdout",
     "output_type": "stream",
     "text": [
      "50000/50000 [==============================] - 24s 481us/step - loss: 0.9907 - acc: 0.6511 - val_loss: 0.9464 - val_acc: 0.6734\n",
      "Epoch 5/50\n",
      "50000/50000 [==============================] - 24s 480us/step - loss: 0.9294 - acc: 0.6741 - val_loss: 0.9437 - val_acc: 0.6740\n",
      "Epoch 6/50\n",
      " 1280/50000 [..............................] - ETA: 22s - loss: 0.8557 - acc: 0.6898"
     ]
    },
    {
     "name": "stdout",
     "output_type": "stream",
     "text": [
      "50000/50000 [==============================] - 24s 480us/step - loss: 0.8865 - acc: 0.6876 - val_loss: 0.9114 - val_acc: 0.6819\n",
      "Epoch 7/50\n",
      "38720/50000 [======================>.......] - ETA: 5s - loss: 0.8339 - acc: 0.7080"
     ]
    },
    {
     "name": "stdout",
     "output_type": "stream",
     "text": [
      "50000/50000 [==============================] - 24s 476us/step - loss: 0.8461 - acc: 0.7023 - val_loss: 0.8966 - val_acc: 0.6902\n",
      "Epoch 8/50\n",
      "50000/50000 [==============================] - 24s 478us/step - loss: 0.8075 - acc: 0.7144 - val_loss: 0.9085 - val_acc: 0.6864\n",
      "Epoch 9/50\n",
      " 1440/50000 [..............................] - ETA: 21s - loss: 0.7289 - acc: 0.7507"
     ]
    },
    {
     "name": "stdout",
     "output_type": "stream",
     "text": [
      "50000/50000 [==============================] - 24s 479us/step - loss: 0.7689 - acc: 0.7258 - val_loss: 0.8672 - val_acc: 0.6987\n",
      "Epoch 10/50\n",
      "38336/50000 [======================>.......] - ETA: 5s - loss: 0.7267 - acc: 0.7464"
     ]
    },
    {
     "name": "stdout",
     "output_type": "stream",
     "text": [
      "50000/50000 [==============================] - 24s 479us/step - loss: 0.7371 - acc: 0.7417 - val_loss: 0.8676 - val_acc: 0.6980\n",
      "Epoch 11/50\n",
      "50000/50000 [==============================] - 24s 479us/step - loss: 0.7051 - acc: 0.7509 - val_loss: 0.8739 - val_acc: 0.7008\n",
      "Epoch 12/50\n",
      " 1056/50000 [..............................] - ETA: 22s - loss: 0.5616 - acc: 0.8134"
     ]
    },
    {
     "name": "stdout",
     "output_type": "stream",
     "text": [
      "50000/50000 [==============================] - 24s 477us/step - loss: 0.6739 - acc: 0.7612 - val_loss: 0.8771 - val_acc: 0.7016\n",
      "Epoch 13/50\n",
      "38176/50000 [=====================>........] - ETA: 5s - loss: 0.6323 - acc: 0.7784"
     ]
    },
    {
     "name": "stdout",
     "output_type": "stream",
     "text": [
      "50000/50000 [==============================] - 24s 476us/step - loss: 0.6477 - acc: 0.7725 - val_loss: 0.8554 - val_acc: 0.7018\n",
      "Epoch 14/50\n",
      "50000/50000 [==============================] - 24s 477us/step - loss: 0.6195 - acc: 0.7795 - val_loss: 0.8660 - val_acc: 0.7040\n",
      "Epoch 15/50\n",
      " 1184/50000 [..............................] - ETA: 22s - loss: 0.5198 - acc: 0.8108"
     ]
    },
    {
     "name": "stdout",
     "output_type": "stream",
     "text": [
      "50000/50000 [==============================] - 24s 475us/step - loss: 0.6017 - acc: 0.7889 - val_loss: 0.8630 - val_acc: 0.7102\n",
      "Epoch 16/50\n",
      "38144/50000 [=====================>........] - ETA: 5s - loss: 0.5484 - acc: 0.8040"
     ]
    },
    {
     "name": "stdout",
     "output_type": "stream",
     "text": [
      "50000/50000 [==============================] - 24s 478us/step - loss: 0.5689 - acc: 0.7969 - val_loss: 0.8592 - val_acc: 0.7116\n",
      "Epoch 17/50\n",
      "50000/50000 [==============================] - 24s 480us/step - loss: 0.5446 - acc: 0.8086 - val_loss: 0.8594 - val_acc: 0.7141\n",
      "Epoch 18/50\n",
      " 1056/50000 [..............................] - ETA: 22s - loss: 0.4367 - acc: 0.8390"
     ]
    },
    {
     "name": "stdout",
     "output_type": "stream",
     "text": [
      "50000/50000 [==============================] - 24s 479us/step - loss: 0.5252 - acc: 0.8138 - val_loss: 0.8642 - val_acc: 0.7111\n",
      "Epoch 19/50\n",
      "38016/50000 [=====================>........] - ETA: 5s - loss: 0.4879 - acc: 0.8285"
     ]
    },
    {
     "name": "stdout",
     "output_type": "stream",
     "text": [
      "50000/50000 [==============================] - 24s 480us/step - loss: 0.5057 - acc: 0.8222 - val_loss: 0.8556 - val_acc: 0.7206\n",
      "Epoch 20/50\n",
      "50000/50000 [==============================] - 24s 478us/step - loss: 0.4879 - acc: 0.8273 - val_loss: 0.8918 - val_acc: 0.7092\n",
      "Epoch 21/50\n",
      " 1056/50000 [..............................] - ETA: 22s - loss: 0.3808 - acc: 0.8627"
     ]
    },
    {
     "name": "stdout",
     "output_type": "stream",
     "text": [
      "50000/50000 [==============================] - 24s 482us/step - loss: 0.4679 - acc: 0.8343 - val_loss: 0.8585 - val_acc: 0.7140\n",
      "Epoch 22/50\n",
      "38112/50000 [=====================>........] - ETA: 5s - loss: 0.4346 - acc: 0.8471"
     ]
    },
    {
     "name": "stdout",
     "output_type": "stream",
     "text": [
      "50000/50000 [==============================] - 24s 476us/step - loss: 0.4512 - acc: 0.8412 - val_loss: 0.8855 - val_acc: 0.7146\n",
      "Epoch 23/50\n",
      "50000/50000 [==============================] - 24s 480us/step - loss: 0.4371 - acc: 0.8467 - val_loss: 0.8910 - val_acc: 0.7159\n",
      "Epoch 24/50\n",
      " 1184/50000 [..............................] - ETA: 22s - loss: 0.3311 - acc: 0.8826"
     ]
    },
    {
     "name": "stdout",
     "output_type": "stream",
     "text": [
      "50000/50000 [==============================] - 24s 479us/step - loss: 0.4166 - acc: 0.8527 - val_loss: 0.9116 - val_acc: 0.7126\n",
      "Epoch 25/50\n",
      "38144/50000 [=====================>........] - ETA: 5s - loss: 0.3914 - acc: 0.8613"
     ]
    },
    {
     "name": "stdout",
     "output_type": "stream",
     "text": [
      "50000/50000 [==============================] - 24s 479us/step - loss: 0.4073 - acc: 0.8553 - val_loss: 0.9064 - val_acc: 0.7173\n",
      "Epoch 26/50\n",
      "50000/50000 [==============================] - 24s 479us/step - loss: 0.3903 - acc: 0.8618 - val_loss: 0.9356 - val_acc: 0.7085\n",
      "Epoch 27/50\n",
      " 1184/50000 [..............................] - ETA: 22s - loss: 0.3589 - acc: 0.8775"
     ]
    },
    {
     "name": "stdout",
     "output_type": "stream",
     "text": [
      "50000/50000 [==============================] - 24s 478us/step - loss: 0.3779 - acc: 0.8693 - val_loss: 0.9055 - val_acc: 0.7141\n",
      "Epoch 28/50\n",
      "38080/50000 [=====================>........] - ETA: 5s - loss: 0.3439 - acc: 0.8795"
     ]
    },
    {
     "name": "stdout",
     "output_type": "stream",
     "text": [
      "50000/50000 [==============================] - 24s 480us/step - loss: 0.3624 - acc: 0.8732 - val_loss: 0.9105 - val_acc: 0.7119\n",
      "Epoch 29/50\n",
      "50000/50000 [==============================] - 24s 479us/step - loss: 0.3535 - acc: 0.8771 - val_loss: 0.9159 - val_acc: 0.7199\n",
      "Epoch 30/50\n",
      " 1056/50000 [..............................] - ETA: 22s - loss: 0.3026 - acc: 0.9006"
     ]
    },
    {
     "name": "stdout",
     "output_type": "stream",
     "text": [
      "50000/50000 [==============================] - 24s 478us/step - loss: 0.3396 - acc: 0.8824 - val_loss: 0.9675 - val_acc: 0.7109\n",
      "Epoch 31/50\n",
      "38240/50000 [=====================>........] - ETA: 5s - loss: 0.3217 - acc: 0.8881"
     ]
    },
    {
     "name": "stdout",
     "output_type": "stream",
     "text": [
      "50000/50000 [==============================] - 24s 478us/step - loss: 0.3353 - acc: 0.8831 - val_loss: 0.9483 - val_acc: 0.7090\n",
      "Epoch 32/50\n",
      "50000/50000 [==============================] - 24s 481us/step - loss: 0.3251 - acc: 0.8898 - val_loss: 0.9245 - val_acc: 0.7148\n",
      "Epoch 33/50\n",
      " 1184/50000 [..............................] - ETA: 22s - loss: 0.2534 - acc: 0.9172"
     ]
    },
    {
     "name": "stdout",
     "output_type": "stream",
     "text": [
      "50000/50000 [==============================] - 24s 479us/step - loss: 0.3098 - acc: 0.8932 - val_loss: 0.9471 - val_acc: 0.7149\n",
      "Epoch 34/50\n",
      "38272/50000 [=====================>........] - ETA: 5s - loss: 0.2931 - acc: 0.8982"
     ]
    },
    {
     "name": "stdout",
     "output_type": "stream",
     "text": [
      "50000/50000 [==============================] - 24s 478us/step - loss: 0.3083 - acc: 0.8926 - val_loss: 0.9316 - val_acc: 0.7219\n",
      "Epoch 35/50\n",
      "50000/50000 [==============================] - 24s 481us/step - loss: 0.2977 - acc: 0.8969 - val_loss: 0.9730 - val_acc: 0.7113\n",
      "Epoch 36/50\n",
      " 1280/50000 [..............................] - ETA: 22s - loss: 0.2388 - acc: 0.9273"
     ]
    },
    {
     "name": "stdout",
     "output_type": "stream",
     "text": [
      "50000/50000 [==============================] - 24s 480us/step - loss: 0.2872 - acc: 0.9015 - val_loss: 0.9670 - val_acc: 0.7174\n",
      "Epoch 37/50\n",
      "38272/50000 [=====================>........] - ETA: 5s - loss: 0.2707 - acc: 0.9069"
     ]
    },
    {
     "name": "stdout",
     "output_type": "stream",
     "text": [
      "50000/50000 [==============================] - 24s 478us/step - loss: 0.2823 - acc: 0.9020 - val_loss: 0.9863 - val_acc: 0.7115\n",
      "Epoch 38/50\n",
      "50000/50000 [==============================] - 24s 478us/step - loss: 0.2755 - acc: 0.9044 - val_loss: 0.9680 - val_acc: 0.7202\n",
      "Epoch 39/50\n",
      " 1184/50000 [..............................] - ETA: 22s - loss: 0.2229 - acc: 0.9189"
     ]
    },
    {
     "name": "stdout",
     "output_type": "stream",
     "text": [
      "50000/50000 [==============================] - 24s 477us/step - loss: 0.2707 - acc: 0.9061 - val_loss: 0.9930 - val_acc: 0.7189\n",
      "Epoch 40/50\n",
      "38208/50000 [=====================>........] - ETA: 5s - loss: 0.2468 - acc: 0.9151"
     ]
    },
    {
     "name": "stdout",
     "output_type": "stream",
     "text": [
      "50000/50000 [==============================] - 24s 480us/step - loss: 0.2584 - acc: 0.9109 - val_loss: 1.0059 - val_acc: 0.7171\n",
      "Epoch 41/50\n",
      "50000/50000 [==============================] - 24s 479us/step - loss: 0.2560 - acc: 0.9111 - val_loss: 1.0100 - val_acc: 0.7222\n",
      "Epoch 42/50\n",
      " 1024/50000 [..............................] - ETA: 22s - loss: 0.2067 - acc: 0.9248"
     ]
    },
    {
     "name": "stdout",
     "output_type": "stream",
     "text": [
      "50000/50000 [==============================] - 24s 479us/step - loss: 0.2518 - acc: 0.9124 - val_loss: 1.0096 - val_acc: 0.7179\n",
      "Epoch 43/50\n",
      "38144/50000 [=====================>........] - ETA: 5s - loss: 0.2359 - acc: 0.9194"
     ]
    },
    {
     "name": "stdout",
     "output_type": "stream",
     "text": [
      "50000/50000 [==============================] - 24s 477us/step - loss: 0.2451 - acc: 0.9160 - val_loss: 1.0129 - val_acc: 0.7231\n",
      "Epoch 44/50\n",
      "50000/50000 [==============================] - 24s 475us/step - loss: 0.2423 - acc: 0.9173 - val_loss: 1.0106 - val_acc: 0.7177\n",
      "Epoch 45/50\n",
      "  928/50000 [..............................] - ETA: 23s - loss: 0.1859 - acc: 0.9440"
     ]
    },
    {
     "name": "stdout",
     "output_type": "stream",
     "text": [
      "50000/50000 [==============================] - 24s 477us/step - loss: 0.2307 - acc: 0.9205 - val_loss: 1.0040 - val_acc: 0.7198\n",
      "Epoch 46/50\n",
      "38144/50000 [=====================>........] - ETA: 5s - loss: 0.2124 - acc: 0.9274"
     ]
    },
    {
     "name": "stdout",
     "output_type": "stream",
     "text": [
      "50000/50000 [==============================] - 24s 476us/step - loss: 0.2236 - acc: 0.9229 - val_loss: 1.0143 - val_acc: 0.7167\n",
      "Epoch 47/50\n",
      "50000/50000 [==============================] - 24s 479us/step - loss: 0.2210 - acc: 0.9239 - val_loss: 1.0110 - val_acc: 0.7155\n",
      "Epoch 48/50\n",
      " 1024/50000 [..............................] - ETA: 22s - loss: 0.2094 - acc: 0.9326"
     ]
    },
    {
     "name": "stdout",
     "output_type": "stream",
     "text": [
      "50000/50000 [==============================] - 24s 481us/step - loss: 0.2180 - acc: 0.9246 - val_loss: 1.0418 - val_acc: 0.7190\n",
      "Epoch 49/50\n",
      "38144/50000 [=====================>........] - ETA: 5s - loss: 0.1995 - acc: 0.9311"
     ]
    },
    {
     "name": "stdout",
     "output_type": "stream",
     "text": [
      "50000/50000 [==============================] - 24s 477us/step - loss: 0.2092 - acc: 0.9277 - val_loss: 1.0216 - val_acc: 0.7247\n",
      "Epoch 50/50\n",
      "50000/50000 [==============================] - 24s 477us/step - loss: 0.2071 - acc: 0.9285 - val_loss: 1.0381 - val_acc: 0.7208\n"
     ]
    }
   ],
   "source": [
    "DataGenerator = model.fit(\n",
    "    X_train,\n",
    "    Y_train,\n",
    "    batch_size=batch_size,\n",
    "    epochs=epochs,\n",
    "    verbose=1,\n",
    "    validation_data=(X_test, Y_test),\n",
    "    shuffle=True\n",
    ")"
   ]
  },
  {
   "cell_type": "code",
   "execution_count": 0,
   "metadata": {},
   "outputs": [],
   "source": [
    "def Over_Fitting_Score(h):\n",
    "    gap = []\n",
    "    n = len(h.epoch)\n",
    "    for i in h.epoch:\n",
    "        acc = h.history['acc'][i]\n",
    "        val_acc = h.history['val_acc'][i]\n",
    "        # late gaps get higher weight ..\n",
    "        gap.append( i * abs(acc-val_acc))\n",
    "    ofs = sum(gap) / (n * (n-1) / 2)\n",
    "    return ofs"
   ]
  },
  {
   "cell_type": "code",
   "execution_count": 0,
   "metadata": {},
   "outputs": [],
   "source": [
    "def Under_Fitting_Score(h):\n",
    "    gap = []\n",
    "    for i in h.epoch:\n",
    "        acc = h.history['acc'][i]\n",
    "        val_acc = h.history['val_acc'][i]\n",
    "        gap.append(abs(acc-val_acc))\n",
    "    gap = np.array(gap)\n",
    "    return gap.mean()"
   ]
  },
  {
   "cell_type": "code",
   "execution_count": 0,
   "metadata": {},
   "outputs": [],
   "source": [
    "def View_Accuracy(h):\n",
    "    # Accuracy history graph\n",
    "    plt.plot(h.history['acc'])\n",
    "    if 'val_acc' in h.history:\n",
    "        plt.plot(h.history['val_acc'])\n",
    "    plt.title('model accuracy')\n",
    "    plt.ylabel('accuracy')\n",
    "    plt.xlabel('epoch')\n",
    "    leg = plt.legend(['train', 'validation'], loc='best')\n",
    "    plt.setp(leg.get_lines(), linewidth=3.0)\n",
    "\n",
    "\n",
    "def View_Loss(h):\n",
    "    # Loss history graph\n",
    "    plt.plot(h.history['loss'])\n",
    "    if 'val_loss' in h.history:\n",
    "        plt.plot(h.history['val_loss'])\n",
    "    plt.title('model loss')\n",
    "    plt.ylabel('loss')\n",
    "    plt.xlabel('epoch')\n",
    "    leg = plt.legend(['train', 'validation'], loc='best')\n",
    "    plt.setp(leg.get_lines(), linewidth=3.0)\n",
    "\n",
    "    \n",
    "def Show_Scores(model, h, X_train, Y_train, X_test, Y_test):\n",
    "    loss, acc = model.evaluate(X_train, Y_train, verbose=0)\n",
    "    print(\"Training: accuracy   = %.6f loss = %.6f\" % (acc, loss))\n",
    "    loss, acc = model.evaluate(X_test, Y_test, verbose=0)\n",
    "    print(\"Validation: accuracy = %.6f loss = %.6f\" % (acc, loss))\n",
    "    if 'val_acc' in h.history:\n",
    "        print(\"Over fitting score   = %.6f\" % Over_Fitting_Score(h))\n",
    "        print(\"Under fitting score  = %.6f\" % Under_Fitting_Score(h))\n",
    "    print(\"Params count:\", model.count_params())\n",
    "    print(\"stop epoch =\", max(h.epoch))\n",
    "\n",
    "    print(\"epoch =\", h.params['epochs'])\n",
    "    print(\"batch_size =\", h.params['batch_size'])\n",
    "    print(\"Training Samples =\", h.params['samples'])\n",
    "    View_Accuracy(h)\n",
    "    id = model.name[-1]\n",
    "    plt.savefig(model.name + '_acc_graph.png')\n",
    "    plt.show()\n",
    "    View_Loss(h)\n",
    "    plt.savefig(model.name + '_loss_graph.png')\n",
    "    plt.show()"
   ]
  },
  {
   "cell_type": "code",
   "execution_count": 19,
   "metadata": {},
   "outputs": [
    {
     "name": "stdout",
     "output_type": "stream",
     "text": [
      "Training: accuracy   = 0.996820 loss = 0.032379\n",
      "Validation: accuracy = 0.720800 loss = 1.038055\n",
      "Over fitting score   = 0.165241\n",
      "Under fitting score  = 0.128979\n",
      "Params count: 3157250\n",
      "stop epoch = 49\n",
      "epoch = 50\n",
      "batch_size = 32\n",
      "Training Samples = 50000\n"
     ]
    },
    {
     "data": {
      "image/png": "[encoded data removed]"
     },
     "output_type": "display_data",
     "metadata": {}
    },
    {
     "data": {
      "image/png": "[encoded data removed]"
     },
     "output_type": "display_data",
     "metadata": {}
    }
   ],
   "source": [
    "Show_Scores(model, DataGenerator, X_train, Y_train, X_test, Y_test)"
   ]
  },
  {
   "cell_type": "code",
   "execution_count": 20,
   "metadata": {},
   "outputs": [
    {
     "name": "stdout",
     "output_type": "stream",
     "text": [
      "Training: accuracy = 0.996820  ;  loss = 0.032379\n"
     ]
    }
   ],
   "source": [
    "loss, accuracy = model.evaluate(X_train, Y_train, verbose=0)\n",
    "print(\"Training: accuracy = %f  ;  loss = %f\" % (accuracy, loss))"
   ]
  },
  {
   "cell_type": "code",
   "execution_count": 21,
   "metadata": {},
   "outputs": [
    {
     "name": "stdout",
     "output_type": "stream",
     "text": [
      "Validation: accuracy1 = 0.720800  ;  loss1 = 1.038055\n"
     ]
    }
   ],
   "source": [
    "loss, accuracy = model.evaluate(X_test, Y_test, verbose=0)\n",
    "print(\"Validation: accuracy1 = %f  ;  loss1 = %f\" % (accuracy, loss))"
   ]
  },
  {
   "cell_type": "code",
   "execution_count": 22,
   "metadata": {},
   "outputs": [
    {
     "name": "stdout",
     "output_type": "stream",
     "text": [
      "Saved model to disk\n"
     ]
    }
   ],
   "source": [
    "# Save the trained weights in to .h5 format\n",
    "model.save_weights(\"HARDAYAL_BATCH_5_ASSIGNMENT4B_Adam.h5\")\n",
    "print(\"Saved model to disk\")"
   ]
  },
  {
   "cell_type": "code",
   "execution_count": 0,
   "metadata": {},
   "outputs": [],
   "source": [
    "files.download(\"HARDAYAL_BATCH_5_ASSIGNMENT4B_Adam.h5\")"
   ]
  }
 ],
 "metadata": {
  "colab": {
   "name": "4B_29052018_SGD.ipynb",
   "version": "0.3.2",
   "views": {},
   "default_view": {},
   "provenance": [
    {
     "file_id": "1p4yjhh1gvJA2Ufp8aXbAXVjP2TlHo5k_",
     "timestamp": 1.527599723037E12
    }
   ],
   "collapsed_sections": []
  },
  "kernelspec": {
   "name": "python3",
   "display_name": "Python 3"
  },
  "accelerator": "GPU"
 },
 "nbformat": 4,
 "nbformat_minor": 0
}